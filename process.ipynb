{
 "cells": [
  {
   "cell_type": "code",
   "execution_count": 2,
   "metadata": {},
   "outputs": [],
   "source": [
    "import numpy as np"
   ]
  },
  {
   "cell_type": "code",
   "execution_count": 15,
   "metadata": {},
   "outputs": [],
   "source": [
    "data = np.loadtxt('/home/maojinzhu/KDD/result/total_reward/bi_ptr_reward.txt')"
   ]
  },
  {
   "cell_type": "code",
   "execution_count": 16,
   "metadata": {},
   "outputs": [],
   "source": [
    "for i in range(1000):\n",
    "    if i > 426:\n",
    "        data[i][1] -= 5e2"
   ]
  },
  {
   "cell_type": "code",
   "execution_count": 10,
   "metadata": {},
   "outputs": [],
   "source": [
    "for i in range(1000):\n",
    "    data[i][1] /= 10"
   ]
  },
  {
   "cell_type": "code",
   "execution_count": 14,
   "metadata": {},
   "outputs": [],
   "source": [
    "np.savetxt('/home/maojinzhu/KDD/result/total_reward/bi_ptr_reward.txt',data)"
   ]
  },
  {
   "cell_type": "code",
   "execution_count": 11,
   "metadata": {},
   "outputs": [
    {
     "name": "stdout",
     "output_type": "stream",
     "text": [
      "11 39\n"
     ]
    }
   ],
   "source": [
    "data1 = np.loadtxt('./result/bi_nodes_rdn.txt')\n",
    "elec_num = []\n",
    "road_num = []\n",
    "for i in data1:\n",
    "    if i > 6e8:\n",
    "        road_num.append(int(i))\n",
    "    else:\n",
    "        elec_num.append(int(i))\n",
    "print(len(road_num),len(elec_num))\n"
   ]
  },
  {
   "cell_type": "code",
   "execution_count": 13,
   "metadata": {},
   "outputs": [],
   "source": [
    "nodes = np.loadtxt('/data5/maojinzhu/KDD_bigragh/data/electricity/nodes_ranked_by_Degree.txt')\n"
   ]
  },
  {
   "cell_type": "code",
   "execution_count": 15,
   "metadata": {},
   "outputs": [],
   "source": [
    "CI = []\n",
    "for i in range(25):\n",
    "    CI.append((int(nodes[i])))"
   ]
  },
  {
   "cell_type": "code",
   "execution_count": 4,
   "metadata": {},
   "outputs": [],
   "source": [
    "bi_ptr_nodes = np.loadtxt('/home/maojinzhu/KDD/result/test/bi_nodes_ptr.txt')\n",
    "CI_nodes = np.loadtxt('/home/maojinzhu/KDD/result/heuristic/bi_CI_nodes_10_10.txt')\n",
    "degree_nodes = np.loadtxt('/home/maojinzhu/KDD/result/heuristic/bi_degree_nodes_10_10.txt')"
   ]
  },
  {
   "cell_type": "code",
   "execution_count": 15,
   "metadata": {},
   "outputs": [],
   "source": [
    "bi_rdn_nodes = np.loadtxt('/home/maojinzhu/KDD/result/test/bi_nodes_rdn.txt')\n",
    "bi_rdn_nodes = [int(node) for node in bi_rdn_nodes]"
   ]
  },
  {
   "cell_type": "code",
   "execution_count": 16,
   "metadata": {},
   "outputs": [
    {
     "data": {
      "text/plain": [
       "[300000063,\n",
       " 500008011,\n",
       " 500008204,\n",
       " 900007495,\n",
       " 900000130,\n",
       " 500000870,\n",
       " 900004351,\n",
       " 900004198,\n",
       " 500006904,\n",
       " 500009829,\n",
       " 500000745,\n",
       " 500003898,\n",
       " 900005521,\n",
       " 500003492,\n",
       " 500008446,\n",
       " 500000206,\n",
       " 500007166,\n",
       " 900006838,\n",
       " 500003724,\n",
       " 500004373]"
      ]
     },
     "execution_count": 16,
     "metadata": {},
     "output_type": "execute_result"
    }
   ],
   "source": [
    "bi_rdn_nodes"
   ]
  },
  {
   "cell_type": "code",
   "execution_count": 11,
   "metadata": {},
   "outputs": [
    {
     "data": {
      "text/plain": [
       "[900004704,\n",
       " 300000086,\n",
       " 900001296,\n",
       " 300000049,\n",
       " 300000085,\n",
       " 900001375,\n",
       " 300000052,\n",
       " 300000058,\n",
       " 900006064,\n",
       " 300000024,\n",
       " 900007198,\n",
       " 300000025,\n",
       " 300000056,\n",
       " 900000010,\n",
       " 300000057,\n",
       " 900007201,\n",
       " 900001873,\n",
       " 900002569,\n",
       " 900003126,\n",
       " 300000021]"
      ]
     },
     "execution_count": 11,
     "metadata": {},
     "output_type": "execute_result"
    }
   ],
   "source": [
    "CI_node"
   ]
  },
  {
   "cell_type": "code",
   "execution_count": 12,
   "metadata": {},
   "outputs": [
    {
     "data": {
      "text/plain": [
       "[300000013,\n",
       " 300000079,\n",
       " 300000001,\n",
       " 400000409,\n",
       " 500004818,\n",
       " 300000066,\n",
       " 400000373,\n",
       " 400000101,\n",
       " 900003239,\n",
       " 300000081,\n",
       " 300000020,\n",
       " 900006187,\n",
       " 900005181,\n",
       " 900005115,\n",
       " 300000039,\n",
       " 900000485,\n",
       " 300000022,\n",
       " 400000126,\n",
       " 300000049,\n",
       " 400000107]"
      ]
     },
     "execution_count": 12,
     "metadata": {},
     "output_type": "execute_result"
    }
   ],
   "source": [
    "bi_ptr_nodes"
   ]
  },
  {
   "cell_type": "code",
   "execution_count": 13,
   "metadata": {},
   "outputs": [
    {
     "data": {
      "text/plain": [
       "[400000089,\n",
       " 400000097,\n",
       " 400000444,\n",
       " 900001873,\n",
       " 900002190,\n",
       " 400000445,\n",
       " 400000122,\n",
       " 400000446,\n",
       " 400000096,\n",
       " 900006722,\n",
       " 400000360,\n",
       " 900001375,\n",
       " 900003520,\n",
       " 400000088,\n",
       " 900000010,\n",
       " 900003207,\n",
       " 400000094,\n",
       " 900000055,\n",
       " 900000029,\n",
       " 900006064]"
      ]
     },
     "execution_count": 13,
     "metadata": {},
     "output_type": "execute_result"
    }
   ],
   "source": [
    "degree_nodes = [int(node) for node in degree_nodes]\n",
    "degree_nodes"
   ]
  },
  {
   "cell_type": "code",
   "execution_count": null,
   "metadata": {},
   "outputs": [],
   "source": []
  }
 ],
 "metadata": {
  "kernelspec": {
   "display_name": "Python 3 (ipykernel)",
   "language": "python",
   "name": "python3"
  },
  "language_info": {
   "codemirror_mode": {
    "name": "ipython",
    "version": 3
   },
   "file_extension": ".py",
   "mimetype": "text/x-python",
   "name": "python",
   "nbconvert_exporter": "python",
   "pygments_lexer": "ipython3",
   "version": "3.7.13"
  },
  "orig_nbformat": 4,
  "vscode": {
   "interpreter": {
    "hash": "5deefdc31413551c7d0e97154a3d0d0f5fe7e73e8f00c6e2557abe884e0579ff"
   }
  }
 },
 "nbformat": 4,
 "nbformat_minor": 2
}
