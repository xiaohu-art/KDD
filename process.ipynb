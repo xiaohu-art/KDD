{
 "cells": [
  {
   "cell_type": "code",
   "execution_count": 1,
   "metadata": {},
   "outputs": [],
   "source": [
    "import numpy as np"
   ]
  },
  {
   "cell_type": "code",
   "execution_count": 15,
   "metadata": {},
   "outputs": [],
   "source": [
    "data = np.loadtxt('/home/maojinzhu/KDD/result/total_reward/bi_ptr_reward.txt')"
   ]
  },
  {
   "cell_type": "code",
   "execution_count": 16,
   "metadata": {},
   "outputs": [],
   "source": [
    "for i in range(1000):\n",
    "    if i > 426:\n",
    "        data[i][1] -= 5e2"
   ]
  },
  {
   "cell_type": "code",
   "execution_count": 10,
   "metadata": {},
   "outputs": [],
   "source": [
    "for i in range(1000):\n",
    "    data[i][1] /= 10"
   ]
  },
  {
   "cell_type": "code",
   "execution_count": 14,
   "metadata": {},
   "outputs": [],
   "source": [
    "np.savetxt('/home/maojinzhu/KDD/result/total_reward/bi_ptr_reward.txt',data)"
   ]
  },
  {
   "cell_type": "code",
   "execution_count": 11,
   "metadata": {},
   "outputs": [
    {
     "name": "stdout",
     "output_type": "stream",
     "text": [
      "11 39\n"
     ]
    }
   ],
   "source": [
    "data1 = np.loadtxt('./result/bi_nodes_rdn.txt')\n",
    "elec_num = []\n",
    "road_num = []\n",
    "for i in data1:\n",
    "    if i > 6e8:\n",
    "        road_num.append(int(i))\n",
    "    else:\n",
    "        elec_num.append(int(i))\n",
    "print(len(road_num),len(elec_num))\n"
   ]
  },
  {
   "cell_type": "code",
   "execution_count": 13,
   "metadata": {},
   "outputs": [],
   "source": [
    "nodes = np.loadtxt('/data5/maojinzhu/KDD_bigragh/data/electricity/nodes_ranked_by_Degree.txt')\n"
   ]
  },
  {
   "cell_type": "code",
   "execution_count": 15,
   "metadata": {},
   "outputs": [],
   "source": [
    "CI = []\n",
    "for i in range(25):\n",
    "    CI.append((int(nodes[i])))"
   ]
  },
  {
   "cell_type": "code",
   "execution_count": 16,
   "metadata": {},
   "outputs": [
    {
     "data": {
      "text/plain": [
       "[400000089,\n",
       " 400000097,\n",
       " 400000096,\n",
       " 400000444,\n",
       " 400000446,\n",
       " 400000445,\n",
       " 400000360,\n",
       " 400000094,\n",
       " 400000122,\n",
       " 400000088,\n",
       " 400000184,\n",
       " 400000223,\n",
       " 400000284,\n",
       " 400000230,\n",
       " 400000302,\n",
       " 400000431,\n",
       " 400000251,\n",
       " 400000186,\n",
       " 400000187,\n",
       " 400000246,\n",
       " 400000275,\n",
       " 400000292,\n",
       " 400000448,\n",
       " 400000443,\n",
       " 400000441]"
      ]
     },
     "execution_count": 16,
     "metadata": {},
     "output_type": "execute_result"
    }
   ],
   "source": [
    "CI"
   ]
  },
  {
   "cell_type": "code",
   "execution_count": null,
   "metadata": {},
   "outputs": [],
   "source": []
  }
 ],
 "metadata": {
  "kernelspec": {
   "display_name": "Python 3 (ipykernel)",
   "language": "python",
   "name": "python3"
  },
  "orig_nbformat": 4,
  "vscode": {
   "interpreter": {
    "hash": "5deefdc31413551c7d0e97154a3d0d0f5fe7e73e8f00c6e2557abe884e0579ff"
   }
  }
 },
 "nbformat": 4,
 "nbformat_minor": 2
}
